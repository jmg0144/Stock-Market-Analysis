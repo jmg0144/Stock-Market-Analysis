{
 "cells": [
  {
   "cell_type": "markdown",
   "metadata": {},
   "source": [
    "# Stock Market Analysis"
   ]
  },
  {
   "cell_type": "markdown",
   "metadata": {},
   "source": [
    "## Business Problem"
   ]
  },
  {
   "cell_type": "markdown",
   "metadata": {},
   "source": [
    "## Import Libraries"
   ]
  },
  {
   "cell_type": "code",
   "execution_count": 1,
   "metadata": {},
   "outputs": [],
   "source": [
    "import numpy as np\n",
    "import matplotlib.pyplot as plt\n",
    "%matplotlib inline\n",
    "import pandas as pd\n",
    "import pandas_datareader\n",
    "import pandas_datareader.data as web\n",
    "import datetime\n",
    "import seaborn as sns\n",
    "from statsmodels.tsa.stattools import adfuller\n",
    "from statsmodels.tsa.seasonal import seasonal_decompose\n",
    "from statsmodels.tsa.statespace.sarimax import SARIMAX\n",
    "from statsmodels.graphics.tsaplots import plot_acf, plot_pacf\n",
    "from statsmodels.tsa.arima_model import ARIMA\n",
    "from statsmodels.tools.eval_measures import rmse\n",
    "from pmdarima import auto_arima\n",
    "from sklearn.preprocessing import MinMaxScaler\n",
    "import keras\n",
    "from keras.models import Sequential\n",
    "from keras.layers import Dense\n",
    "from keras.layers import LSTM\n",
    "from keras.preprocessing.sequence import TimeseriesGenerator\n",
    "import warnings\n",
    "warnings.filterwarnings('ignore')"
   ]
  },
  {
   "cell_type": "markdown",
   "metadata": {},
   "source": [
    "## Functions"
   ]
  },
  {
   "cell_type": "code",
   "execution_count": 2,
   "metadata": {},
   "outputs": [],
   "source": [
    "def adfuller_of(series):\n",
    "    \"\"\"Prints the Augmented Dickey-Fuller test results.\"\"\"\n",
    "    \n",
    "    adf, pvalue, usedlag, nobs, crit_vals, resstore = adfuller(series)\n",
    "    print(f'''\n",
    "                          ADF: {adf}\n",
    "                      P-Value: {pvalue}\n",
    "                     Used Lag: {usedlag}\n",
    "       Number of Observations: {nobs}\n",
    "    Critical Values (for ADF): {crit_vals}\n",
    "                  ResultStore: {resstore}\n",
    "    ''')"
   ]
  },
  {
   "cell_type": "code",
   "execution_count": 3,
   "metadata": {},
   "outputs": [],
   "source": [
    "def get_data(stock):\n",
    "    start = datetime.datetime(2016,1,1)\n",
    "    end = datetime.datetime(2021,6,1)\n",
    "    stock_df = web.DataReader(stock, 'yahoo', start, end)\n",
    "    stock_df['Stock'] = stock\n",
    "    stock_df['Returns'] = stock_df['Close'].pct_change(1)\n",
    "    stock_df['Cumulative Return'] = (1 + stock_df['Returns']).cumprod()\n",
    "    return stock_df"
   ]
  },
  {
   "cell_type": "markdown",
   "metadata": {},
   "source": [
    "## Load Data"
   ]
  },
  {
   "cell_type": "code",
   "execution_count": 4,
   "metadata": {},
   "outputs": [],
   "source": [
    "#tesla = web.DataReader('TSLA', 'yahoo', start, end)"
   ]
  },
  {
   "cell_type": "markdown",
   "metadata": {},
   "source": [
    "### Top 10 Tech Stocks"
   ]
  },
  {
   "cell_type": "code",
   "execution_count": 5,
   "metadata": {},
   "outputs": [],
   "source": [
    "apple = get_data('AAPL')"
   ]
  },
  {
   "cell_type": "code",
   "execution_count": 6,
   "metadata": {},
   "outputs": [
    {
     "name": "stdout",
     "output_type": "stream",
     "text": [
      "<class 'pandas.core.frame.DataFrame'>\n",
      "DatetimeIndex: 1362 entries, 2016-01-04 to 2021-06-01\n",
      "Data columns (total 9 columns):\n",
      " #   Column             Non-Null Count  Dtype  \n",
      "---  ------             --------------  -----  \n",
      " 0   High               1362 non-null   float64\n",
      " 1   Low                1362 non-null   float64\n",
      " 2   Open               1362 non-null   float64\n",
      " 3   Close              1362 non-null   float64\n",
      " 4   Volume             1362 non-null   float64\n",
      " 5   Adj Close          1362 non-null   float64\n",
      " 6   Stock              1362 non-null   object \n",
      " 7   Returns            1361 non-null   float64\n",
      " 8   Cumulative Return  1361 non-null   float64\n",
      "dtypes: float64(8), object(1)\n",
      "memory usage: 106.4+ KB\n"
     ]
    }
   ],
   "source": [
    "apple.info()"
   ]
  },
  {
   "cell_type": "code",
   "execution_count": 7,
   "metadata": {},
   "outputs": [],
   "source": [
    "microsoft = get_data('MSFT')"
   ]
  },
  {
   "cell_type": "code",
   "execution_count": 8,
   "metadata": {},
   "outputs": [],
   "source": [
    "google = get_data('GOOG')"
   ]
  },
  {
   "cell_type": "code",
   "execution_count": 9,
   "metadata": {},
   "outputs": [],
   "source": [
    "amazon = get_data('AMZN')"
   ]
  },
  {
   "cell_type": "code",
   "execution_count": 10,
   "metadata": {},
   "outputs": [],
   "source": [
    "facebook = get_data('FB')"
   ]
  },
  {
   "cell_type": "code",
   "execution_count": 11,
   "metadata": {},
   "outputs": [],
   "source": [
    "tencent = get_data('TCEHY')"
   ]
  },
  {
   "cell_type": "code",
   "execution_count": 12,
   "metadata": {},
   "outputs": [],
   "source": [
    "alibaba = get_data('BABA')"
   ]
  },
  {
   "cell_type": "code",
   "execution_count": 13,
   "metadata": {},
   "outputs": [],
   "source": [
    "tesla = get_data('TSLA')"
   ]
  },
  {
   "cell_type": "code",
   "execution_count": 14,
   "metadata": {},
   "outputs": [],
   "source": [
    "tsmc = get_data('TSM')"
   ]
  },
  {
   "cell_type": "code",
   "execution_count": 15,
   "metadata": {},
   "outputs": [],
   "source": [
    "nvidia = get_data('NVDA')"
   ]
  },
  {
   "cell_type": "code",
   "execution_count": 16,
   "metadata": {},
   "outputs": [],
   "source": [
    "to_concat = [apple, microsoft, google, amazon, facebook, tencent, alibaba, tesla, tsmc, nvidia]\n",
    "tech_df = pd.concat(to_concat)"
   ]
  },
  {
   "cell_type": "code",
   "execution_count": 17,
   "metadata": {},
   "outputs": [
    {
     "data": {
      "text/plain": [
       "(13620, 9)"
      ]
     },
     "execution_count": 17,
     "metadata": {},
     "output_type": "execute_result"
    }
   ],
   "source": [
    "tech_df.shape"
   ]
  },
  {
   "cell_type": "code",
   "execution_count": 18,
   "metadata": {},
   "outputs": [
    {
     "name": "stdout",
     "output_type": "stream",
     "text": [
      "<class 'pandas.core.frame.DataFrame'>\n",
      "DatetimeIndex: 13620 entries, 2016-01-04 to 2021-06-01\n",
      "Data columns (total 9 columns):\n",
      " #   Column             Non-Null Count  Dtype  \n",
      "---  ------             --------------  -----  \n",
      " 0   High               13620 non-null  float64\n",
      " 1   Low                13620 non-null  float64\n",
      " 2   Open               13620 non-null  float64\n",
      " 3   Close              13620 non-null  float64\n",
      " 4   Volume             13620 non-null  float64\n",
      " 5   Adj Close          13620 non-null  float64\n",
      " 6   Stock              13620 non-null  object \n",
      " 7   Returns            13610 non-null  float64\n",
      " 8   Cumulative Return  13610 non-null  float64\n",
      "dtypes: float64(8), object(1)\n",
      "memory usage: 1.0+ MB\n"
     ]
    }
   ],
   "source": [
    "tech_df.info()"
   ]
  },
  {
   "cell_type": "code",
   "execution_count": 19,
   "metadata": {},
   "outputs": [
    {
     "data": {
      "text/plain": [
       "(1362, 9)"
      ]
     },
     "execution_count": 19,
     "metadata": {},
     "output_type": "execute_result"
    }
   ],
   "source": [
    "aapl_df = tech_df[tech_df['Stock'] == 'AAPL']\n",
    "aapl_df.shape"
   ]
  },
  {
   "cell_type": "code",
   "execution_count": 20,
   "metadata": {},
   "outputs": [
    {
     "data": {
      "text/plain": [
       "High                      125.35\n",
       "Low                       123.94\n",
       "Open                      125.08\n",
       "Close                     124.28\n",
       "Volume               6.76371e+07\n",
       "Adj Close                 124.28\n",
       "Stock                       AAPL\n",
       "Returns              -0.00264828\n",
       "Cumulative Return        4.71875\n",
       "Name: 2021-06-01 00:00:00, dtype: object"
      ]
     },
     "execution_count": 20,
     "metadata": {},
     "output_type": "execute_result"
    }
   ],
   "source": [
    "aapl_df.iloc[-1]"
   ]
  },
  {
   "cell_type": "code",
   "execution_count": 21,
   "metadata": {},
   "outputs": [
    {
     "data": {
      "text/plain": [
       "(1362, 9)"
      ]
     },
     "execution_count": 21,
     "metadata": {},
     "output_type": "execute_result"
    }
   ],
   "source": [
    "msft_df = tech_df[tech_df['Stock'] == 'MSFT']\n",
    "msft_df.shape"
   ]
  },
  {
   "cell_type": "markdown",
   "metadata": {},
   "source": [
    "### Top 10 Healthcare Stocks"
   ]
  },
  {
   "cell_type": "code",
   "execution_count": 22,
   "metadata": {},
   "outputs": [],
   "source": [
    "united_health = get_data('UNH')"
   ]
  },
  {
   "cell_type": "code",
   "execution_count": 23,
   "metadata": {},
   "outputs": [],
   "source": [
    "cvs = get_data('CVS')"
   ]
  },
  {
   "cell_type": "code",
   "execution_count": 24,
   "metadata": {},
   "outputs": [],
   "source": [
    "hca = get_data('HCA')"
   ]
  },
  {
   "cell_type": "code",
   "execution_count": 25,
   "metadata": {},
   "outputs": [],
   "source": [
    "mckesson = get_data('MCK')"
   ]
  },
  {
   "cell_type": "code",
   "execution_count": 26,
   "metadata": {},
   "outputs": [],
   "source": [
    "amerisource_bergen = get_data('ABC')"
   ]
  },
  {
   "cell_type": "code",
   "execution_count": 27,
   "metadata": {},
   "outputs": [],
   "source": [
    "cerner = get_data('CERN')"
   ]
  },
  {
   "cell_type": "code",
   "execution_count": 28,
   "metadata": {},
   "outputs": [],
   "source": [
    "teladoc_health = get_data('TDOC')"
   ]
  },
  {
   "cell_type": "code",
   "execution_count": 29,
   "metadata": {},
   "outputs": [],
   "source": [
    "bio_rad = get_data('BIO')"
   ]
  },
  {
   "cell_type": "code",
   "execution_count": 30,
   "metadata": {},
   "outputs": [],
   "source": [
    "cardinal_health = get_data('CAH')"
   ]
  },
  {
   "cell_type": "code",
   "execution_count": 31,
   "metadata": {},
   "outputs": [],
   "source": [
    "perkin_elmer = get_data('PKI')"
   ]
  },
  {
   "cell_type": "code",
   "execution_count": 32,
   "metadata": {},
   "outputs": [],
   "source": [
    "to_concat = [united_health, cvs, hca, mckesson, amerisource_bergen, cerner, teladoc_health,\n",
    "            bio_rad, cardinal_health, perkin_elmer]\n",
    "healthcare_df = pd.concat(to_concat)"
   ]
  },
  {
   "cell_type": "code",
   "execution_count": 33,
   "metadata": {},
   "outputs": [
    {
     "data": {
      "text/plain": [
       "(13620, 9)"
      ]
     },
     "execution_count": 33,
     "metadata": {},
     "output_type": "execute_result"
    }
   ],
   "source": [
    "healthcare_df.shape"
   ]
  },
  {
   "cell_type": "code",
   "execution_count": 34,
   "metadata": {},
   "outputs": [
    {
     "name": "stdout",
     "output_type": "stream",
     "text": [
      "<class 'pandas.core.frame.DataFrame'>\n",
      "DatetimeIndex: 13620 entries, 2016-01-04 to 2021-06-01\n",
      "Data columns (total 9 columns):\n",
      " #   Column             Non-Null Count  Dtype  \n",
      "---  ------             --------------  -----  \n",
      " 0   High               13620 non-null  float64\n",
      " 1   Low                13620 non-null  float64\n",
      " 2   Open               13620 non-null  float64\n",
      " 3   Close              13620 non-null  float64\n",
      " 4   Volume             13620 non-null  float64\n",
      " 5   Adj Close          13620 non-null  float64\n",
      " 6   Stock              13620 non-null  object \n",
      " 7   Returns            13610 non-null  float64\n",
      " 8   Cumulative Return  13610 non-null  float64\n",
      "dtypes: float64(8), object(1)\n",
      "memory usage: 1.0+ MB\n"
     ]
    }
   ],
   "source": [
    "healthcare_df.info()"
   ]
  },
  {
   "cell_type": "markdown",
   "metadata": {},
   "source": [
    "### Top 5 Cryptocurrency Stocks"
   ]
  },
  {
   "cell_type": "code",
   "execution_count": 35,
   "metadata": {},
   "outputs": [],
   "source": [
    "bitcoin = get_data('BTC-USD')"
   ]
  },
  {
   "cell_type": "code",
   "execution_count": 36,
   "metadata": {},
   "outputs": [],
   "source": [
    "ethereum = get_data('ETH-USD')"
   ]
  },
  {
   "cell_type": "code",
   "execution_count": 37,
   "metadata": {},
   "outputs": [],
   "source": [
    "#binance_coin = get_data('BNB-USD')"
   ]
  },
  {
   "cell_type": "code",
   "execution_count": 38,
   "metadata": {},
   "outputs": [],
   "source": [
    "#cardano = get_data('ADA-USD')"
   ]
  },
  {
   "cell_type": "code",
   "execution_count": 39,
   "metadata": {},
   "outputs": [],
   "source": [
    "dogecoin = get_data('DOGE-USD')"
   ]
  },
  {
   "cell_type": "code",
   "execution_count": 40,
   "metadata": {},
   "outputs": [],
   "source": [
    "xrp = get_data('XRP-USD')"
   ]
  },
  {
   "cell_type": "code",
   "execution_count": 41,
   "metadata": {},
   "outputs": [],
   "source": [
    "litecoin = get_data('LTC-USD')"
   ]
  },
  {
   "cell_type": "code",
   "execution_count": 42,
   "metadata": {},
   "outputs": [],
   "source": [
    "#stellar = get_data('XLM-USD')"
   ]
  },
  {
   "cell_type": "code",
   "execution_count": 43,
   "metadata": {},
   "outputs": [],
   "source": [
    "to_concat = [bitcoin, ethereum, dogecoin, xrp, litecoin]\n",
    "crypto_df = pd.concat(to_concat)"
   ]
  },
  {
   "cell_type": "code",
   "execution_count": 44,
   "metadata": {},
   "outputs": [
    {
     "data": {
      "text/plain": [
       "(9880, 9)"
      ]
     },
     "execution_count": 44,
     "metadata": {},
     "output_type": "execute_result"
    }
   ],
   "source": [
    "crypto_df.shape"
   ]
  },
  {
   "cell_type": "code",
   "execution_count": 45,
   "metadata": {},
   "outputs": [
    {
     "name": "stdout",
     "output_type": "stream",
     "text": [
      "<class 'pandas.core.frame.DataFrame'>\n",
      "DatetimeIndex: 9880 entries, 2016-01-01 to 2021-06-01\n",
      "Data columns (total 9 columns):\n",
      " #   Column             Non-Null Count  Dtype  \n",
      "---  ------             --------------  -----  \n",
      " 0   High               9880 non-null   float64\n",
      " 1   Low                9880 non-null   float64\n",
      " 2   Open               9880 non-null   float64\n",
      " 3   Close              9880 non-null   float64\n",
      " 4   Volume             9880 non-null   float64\n",
      " 5   Adj Close          9880 non-null   float64\n",
      " 6   Stock              9880 non-null   object \n",
      " 7   Returns            9875 non-null   float64\n",
      " 8   Cumulative Return  9875 non-null   float64\n",
      "dtypes: float64(8), object(1)\n",
      "memory usage: 771.9+ KB\n"
     ]
    }
   ],
   "source": [
    "crypto_df.info()"
   ]
  },
  {
   "cell_type": "markdown",
   "metadata": {},
   "source": [
    "## Data Exploration"
   ]
  },
  {
   "cell_type": "code",
   "execution_count": 46,
   "metadata": {},
   "outputs": [
    {
     "data": {
      "image/png": "[encoded data removed]",
      "text/plain": [
       "<Figure size 432x288 with 1 Axes>"
      ]
     },
     "metadata": {
      "needs_background": "light"
     },
     "output_type": "display_data"
    }
   ],
   "source": [
    "plot_acf(apple['Close']);"
   ]
  },
  {
   "cell_type": "code",
   "execution_count": 47,
   "metadata": {},
   "outputs": [],
   "source": [
    "decomposition = seasonal_decompose(apple['Close'], period=365)"
   ]
  },
  {
   "cell_type": "code",
   "execution_count": 48,
   "metadata": {},
   "outputs": [
    {
     "data": {
      "image/png": "[encoded data removed]",
      "text/plain": [
       "<Figure size 1080x576 with 4 Axes>"
      ]
     },
     "metadata": {
      "needs_background": "light"
     },
     "output_type": "display_data"
    }
   ],
   "source": [
    "fig = decomposition.plot()\n",
    "fig.set_size_inches(15,8)"
   ]
  },
  {
   "cell_type": "code",
   "execution_count": 49,
   "metadata": {},
   "outputs": [],
   "source": [
    "#tesla['Cumulative Return'] = (1 + tesla['Returns']).cumprod()"
   ]
  },
  {
   "cell_type": "code",
   "execution_count": 50,
   "metadata": {},
   "outputs": [
    {
     "data": {
      "text/html": [
       "<div>\n",
       "<style scoped>\n",
       "    .dataframe tbody tr th:only-of-type {\n",
       "        vertical-align: middle;\n",
       "    }\n",
       "\n",
       "    .dataframe tbody tr th {\n",
       "        vertical-align: top;\n",
       "    }\n",
       "\n",
       "    .dataframe thead th {\n",
       "        text-align: right;\n",
       "    }\n",
       "</style>\n",
       "<table border=\"1\" class=\"dataframe\">\n",
       "  <thead>\n",
       "    <tr style=\"text-align: right;\">\n",
       "      <th></th>\n",
       "      <th>High</th>\n",
       "      <th>Low</th>\n",
       "      <th>Open</th>\n",
       "      <th>Close</th>\n",
       "      <th>Volume</th>\n",
       "      <th>Adj Close</th>\n",
       "      <th>Stock</th>\n",
       "      <th>Returns</th>\n",
       "      <th>Cumulative Return</th>\n",
       "    </tr>\n",
       "    <tr>\n",
       "      <th>Date</th>\n",
       "      <th></th>\n",
       "      <th></th>\n",
       "      <th></th>\n",
       "      <th></th>\n",
       "      <th></th>\n",
       "      <th></th>\n",
       "      <th></th>\n",
       "      <th></th>\n",
       "      <th></th>\n",
       "    </tr>\n",
       "  </thead>\n",
       "  <tbody>\n",
       "    <tr>\n",
       "      <th>2016-01-04</th>\n",
       "      <td>26.342501</td>\n",
       "      <td>25.500000</td>\n",
       "      <td>25.652500</td>\n",
       "      <td>26.337500</td>\n",
       "      <td>270597600.0</td>\n",
       "      <td>24.323219</td>\n",
       "      <td>AAPL</td>\n",
       "      <td>NaN</td>\n",
       "      <td>NaN</td>\n",
       "    </tr>\n",
       "    <tr>\n",
       "      <th>2016-01-05</th>\n",
       "      <td>26.462500</td>\n",
       "      <td>25.602501</td>\n",
       "      <td>26.437500</td>\n",
       "      <td>25.677500</td>\n",
       "      <td>223164000.0</td>\n",
       "      <td>23.713696</td>\n",
       "      <td>AAPL</td>\n",
       "      <td>-0.025059</td>\n",
       "      <td>0.974941</td>\n",
       "    </tr>\n",
       "    <tr>\n",
       "      <th>2016-01-06</th>\n",
       "      <td>25.592501</td>\n",
       "      <td>24.967501</td>\n",
       "      <td>25.139999</td>\n",
       "      <td>25.174999</td>\n",
       "      <td>273829600.0</td>\n",
       "      <td>23.249626</td>\n",
       "      <td>AAPL</td>\n",
       "      <td>-0.019570</td>\n",
       "      <td>0.955861</td>\n",
       "    </tr>\n",
       "    <tr>\n",
       "      <th>2016-01-07</th>\n",
       "      <td>25.032499</td>\n",
       "      <td>24.107500</td>\n",
       "      <td>24.670000</td>\n",
       "      <td>24.112499</td>\n",
       "      <td>324377600.0</td>\n",
       "      <td>22.268383</td>\n",
       "      <td>AAPL</td>\n",
       "      <td>-0.042205</td>\n",
       "      <td>0.915520</td>\n",
       "    </tr>\n",
       "    <tr>\n",
       "      <th>2016-01-08</th>\n",
       "      <td>24.777500</td>\n",
       "      <td>24.190001</td>\n",
       "      <td>24.637501</td>\n",
       "      <td>24.240000</td>\n",
       "      <td>283192000.0</td>\n",
       "      <td>22.386133</td>\n",
       "      <td>AAPL</td>\n",
       "      <td>0.005288</td>\n",
       "      <td>0.920361</td>\n",
       "    </tr>\n",
       "  </tbody>\n",
       "</table>\n",
       "</div>"
      ],
      "text/plain": [
       "                 High        Low       Open      Close       Volume  \\\n",
       "Date                                                                  \n",
       "2016-01-04  26.342501  25.500000  25.652500  26.337500  270597600.0   \n",
       "2016-01-05  26.462500  25.602501  26.437500  25.677500  223164000.0   \n",
       "2016-01-06  25.592501  24.967501  25.139999  25.174999  273829600.0   \n",
       "2016-01-07  25.032499  24.107500  24.670000  24.112499  324377600.0   \n",
       "2016-01-08  24.777500  24.190001  24.637501  24.240000  283192000.0   \n",
       "\n",
       "            Adj Close Stock   Returns  Cumulative Return  \n",
       "Date                                                      \n",
       "2016-01-04  24.323219  AAPL       NaN                NaN  \n",
       "2016-01-05  23.713696  AAPL -0.025059           0.974941  \n",
       "2016-01-06  23.249626  AAPL -0.019570           0.955861  \n",
       "2016-01-07  22.268383  AAPL -0.042205           0.915520  \n",
       "2016-01-08  22.386133  AAPL  0.005288           0.920361  "
      ]
     },
     "execution_count": 50,
     "metadata": {},
     "output_type": "execute_result"
    }
   ],
   "source": [
    "tech_df.head()"
   ]
  },
  {
   "cell_type": "code",
   "execution_count": 51,
   "metadata": {},
   "outputs": [
    {
     "data": {
      "image/png": "[encoded data removed]",
      "text/plain": [
       "<Figure size 432x288 with 1 Axes>"
      ]
     },
     "metadata": {},
     "output_type": "display_data"
    }
   ],
   "source": [
    "plt.style.use('fivethirtyeight')\n",
    "tesla['Returns'].hist(bins=100);"
   ]
  },
  {
   "cell_type": "code",
   "execution_count": 52,
   "metadata": {},
   "outputs": [
    {
     "data": {
      "image/png": "[encoded data removed]",
      "text/plain": [
       "<Figure size 720x576 with 1 Axes>"
      ]
     },
     "metadata": {},
     "output_type": "display_data"
    }
   ],
   "source": [
    "apple['Returns'].hist(bins=100, label='Apple', figsize=(10,8), alpha=0.5)\n",
    "microsoft['Returns'].hist(bins=100, label='Microsoft', figsize=(10,8), alpha=0.5)\n",
    "google['Returns'].hist(bins=100, label='Google', figsize=(10,8), alpha=0.5)\n",
    "plt.legend();"
   ]
  },
  {
   "cell_type": "code",
   "execution_count": 53,
   "metadata": {},
   "outputs": [
    {
     "data": {
      "image/png": "[encoded data removed]",
      "text/plain": [
       "<Figure size 720x576 with 1 Axes>"
      ]
     },
     "metadata": {},
     "output_type": "display_data"
    }
   ],
   "source": [
    "apple['Returns'].plot(kind='kde', label='Apple', figsize=(10,8))\n",
    "microsoft['Returns'].plot(kind='kde', label='Microsoft', figsize=(10,8))\n",
    "google['Returns'].plot(kind='kde', label='Google', figsize=(10,8))\n",
    "plt.legend();"
   ]
  },
  {
   "cell_type": "code",
   "execution_count": 54,
   "metadata": {},
   "outputs": [
    {
     "data": {
      "image/png": "[encoded data removed]",
      "text/plain": [
       "<Figure size 864x576 with 1 Axes>"
      ]
     },
     "metadata": {},
     "output_type": "display_data"
    }
   ],
   "source": [
    "box_df = pd.concat([apple['Returns'], microsoft['Returns'], google['Returns']], axis=1)\n",
    "box_df.columns = ['Apple Returns', 'Microsoft Returns', 'Google Returns']\n",
    "box_df.plot(kind='box', figsize=(12,8));"
   ]
  },
  {
   "cell_type": "code",
   "execution_count": 55,
   "metadata": {},
   "outputs": [
    {
     "data": {
      "text/html": [
       "<div>\n",
       "<style scoped>\n",
       "    .dataframe tbody tr th:only-of-type {\n",
       "        vertical-align: middle;\n",
       "    }\n",
       "\n",
       "    .dataframe tbody tr th {\n",
       "        vertical-align: top;\n",
       "    }\n",
       "\n",
       "    .dataframe thead th {\n",
       "        text-align: right;\n",
       "    }\n",
       "</style>\n",
       "<table border=\"1\" class=\"dataframe\">\n",
       "  <thead>\n",
       "    <tr style=\"text-align: right;\">\n",
       "      <th></th>\n",
       "      <th>High</th>\n",
       "      <th>Low</th>\n",
       "      <th>Open</th>\n",
       "      <th>Close</th>\n",
       "      <th>Volume</th>\n",
       "      <th>Adj Close</th>\n",
       "      <th>Stock</th>\n",
       "      <th>Returns</th>\n",
       "      <th>Cumulative Return</th>\n",
       "    </tr>\n",
       "    <tr>\n",
       "      <th>Date</th>\n",
       "      <th></th>\n",
       "      <th></th>\n",
       "      <th></th>\n",
       "      <th></th>\n",
       "      <th></th>\n",
       "      <th></th>\n",
       "      <th></th>\n",
       "      <th></th>\n",
       "      <th></th>\n",
       "    </tr>\n",
       "  </thead>\n",
       "  <tbody>\n",
       "    <tr>\n",
       "      <th>2021-05-25</th>\n",
       "      <td>613.989990</td>\n",
       "      <td>595.710022</td>\n",
       "      <td>607.309998</td>\n",
       "      <td>604.690002</td>\n",
       "      <td>28005900.0</td>\n",
       "      <td>604.690002</td>\n",
       "      <td>TSLA</td>\n",
       "      <td>-0.002886</td>\n",
       "      <td>13.533190</td>\n",
       "    </tr>\n",
       "    <tr>\n",
       "      <th>2021-05-26</th>\n",
       "      <td>626.169983</td>\n",
       "      <td>601.500000</td>\n",
       "      <td>607.559998</td>\n",
       "      <td>619.130005</td>\n",
       "      <td>28639300.0</td>\n",
       "      <td>619.130005</td>\n",
       "      <td>TSLA</td>\n",
       "      <td>0.023880</td>\n",
       "      <td>13.856363</td>\n",
       "    </tr>\n",
       "    <tr>\n",
       "      <th>2021-05-27</th>\n",
       "      <td>631.130005</td>\n",
       "      <td>616.210022</td>\n",
       "      <td>620.239990</td>\n",
       "      <td>630.849976</td>\n",
       "      <td>26370600.0</td>\n",
       "      <td>630.849976</td>\n",
       "      <td>TSLA</td>\n",
       "      <td>0.018930</td>\n",
       "      <td>14.118660</td>\n",
       "    </tr>\n",
       "    <tr>\n",
       "      <th>2021-05-28</th>\n",
       "      <td>635.590027</td>\n",
       "      <td>622.380005</td>\n",
       "      <td>628.500000</td>\n",
       "      <td>625.219971</td>\n",
       "      <td>22737000.0</td>\n",
       "      <td>625.219971</td>\n",
       "      <td>TSLA</td>\n",
       "      <td>-0.008924</td>\n",
       "      <td>13.992659</td>\n",
       "    </tr>\n",
       "    <tr>\n",
       "      <th>2021-06-01</th>\n",
       "      <td>633.799988</td>\n",
       "      <td>620.549988</td>\n",
       "      <td>627.799988</td>\n",
       "      <td>623.900024</td>\n",
       "      <td>18084900.0</td>\n",
       "      <td>623.900024</td>\n",
       "      <td>TSLA</td>\n",
       "      <td>-0.002111</td>\n",
       "      <td>13.963118</td>\n",
       "    </tr>\n",
       "  </tbody>\n",
       "</table>\n",
       "</div>"
      ],
      "text/plain": [
       "                  High         Low        Open       Close      Volume  \\\n",
       "Date                                                                     \n",
       "2021-05-25  613.989990  595.710022  607.309998  604.690002  28005900.0   \n",
       "2021-05-26  626.169983  601.500000  607.559998  619.130005  28639300.0   \n",
       "2021-05-27  631.130005  616.210022  620.239990  630.849976  26370600.0   \n",
       "2021-05-28  635.590027  622.380005  628.500000  625.219971  22737000.0   \n",
       "2021-06-01  633.799988  620.549988  627.799988  623.900024  18084900.0   \n",
       "\n",
       "             Adj Close Stock   Returns  Cumulative Return  \n",
       "Date                                                       \n",
       "2021-05-25  604.690002  TSLA -0.002886          13.533190  \n",
       "2021-05-26  619.130005  TSLA  0.023880          13.856363  \n",
       "2021-05-27  630.849976  TSLA  0.018930          14.118660  \n",
       "2021-05-28  625.219971  TSLA -0.008924          13.992659  \n",
       "2021-06-01  623.900024  TSLA -0.002111          13.963118  "
      ]
     },
     "execution_count": 55,
     "metadata": {},
     "output_type": "execute_result"
    }
   ],
   "source": [
    "tesla.tail()"
   ]
  },
  {
   "cell_type": "code",
   "execution_count": 56,
   "metadata": {},
   "outputs": [],
   "source": [
    "#tesla.iloc[-1,-1]"
   ]
  },
  {
   "cell_type": "code",
   "execution_count": 57,
   "metadata": {},
   "outputs": [],
   "source": [
    "def returns_dict(df):\n",
    "    \"\"\"Takes in a\"\"\"\n",
    "    returns_lst = []\n",
    "    for s in df.Stock.unique():\n",
    "        stock_df = df[(df['Stock'] == s)]\n",
    "        ret = stock_df.iloc[-1,8]\n",
    "        returns_lst.append(round(ret,2)) \n",
    "        \n",
    "    stock_names = []\n",
    "    for n in df.Stock.unique():\n",
    "        stock_names.append(n)\n",
    "    \n",
    "    returns_dict = dict(zip(stock_names, returns_lst))\n",
    "    return(returns_dict)"
   ]
  },
  {
   "cell_type": "code",
   "execution_count": 58,
   "metadata": {},
   "outputs": [
    {
     "data": {
      "text/plain": [
       "{'AAPL': 4.72,\n",
       " 'MSFT': 4.51,\n",
       " 'GOOG': 3.28,\n",
       " 'AMZN': 5.05,\n",
       " 'FB': 3.22,\n",
       " 'TCEHY': 4.25,\n",
       " 'BABA': 2.86,\n",
       " 'TSLA': 13.96,\n",
       " 'TSM': 5.36,\n",
       " 'NVDA': 20.1}"
      ]
     },
     "execution_count": 58,
     "metadata": {},
     "output_type": "execute_result"
    }
   ],
   "source": [
    "returns_dict(tech_df)"
   ]
  },
  {
   "cell_type": "code",
   "execution_count": 59,
   "metadata": {},
   "outputs": [
    {
     "data": {
      "text/plain": [
       "{'BTC-USD': 86.51,\n",
       " 'ETH-USD': 2854.49,\n",
       " 'DOGE-USD': 2749.18,\n",
       " 'XRP-USD': 172.02,\n",
       " 'LTC-USD': 53.37}"
      ]
     },
     "execution_count": 59,
     "metadata": {},
     "output_type": "execute_result"
    }
   ],
   "source": [
    "returns_dict(crypto_df)"
   ]
  },
  {
   "cell_type": "code",
   "execution_count": 60,
   "metadata": {},
   "outputs": [],
   "source": [
    "health_returns = returns_dict(healthcare_df)"
   ]
  },
  {
   "cell_type": "code",
   "execution_count": 61,
   "metadata": {},
   "outputs": [
    {
     "data": {
      "text/html": [
       "<div>\n",
       "<style scoped>\n",
       "    .dataframe tbody tr th:only-of-type {\n",
       "        vertical-align: middle;\n",
       "    }\n",
       "\n",
       "    .dataframe tbody tr th {\n",
       "        vertical-align: top;\n",
       "    }\n",
       "\n",
       "    .dataframe thead th {\n",
       "        text-align: right;\n",
       "    }\n",
       "</style>\n",
       "<table border=\"1\" class=\"dataframe\">\n",
       "  <thead>\n",
       "    <tr style=\"text-align: right;\">\n",
       "      <th></th>\n",
       "      <th>Stock</th>\n",
       "      <th>Cumulative Return</th>\n",
       "    </tr>\n",
       "  </thead>\n",
       "  <tbody>\n",
       "    <tr>\n",
       "      <th>0</th>\n",
       "      <td>TDOC</td>\n",
       "      <td>8.47</td>\n",
       "    </tr>\n",
       "    <tr>\n",
       "      <th>1</th>\n",
       "      <td>BIO</td>\n",
       "      <td>4.27</td>\n",
       "    </tr>\n",
       "    <tr>\n",
       "      <th>2</th>\n",
       "      <td>UNH</td>\n",
       "      <td>3.49</td>\n",
       "    </tr>\n",
       "    <tr>\n",
       "      <th>3</th>\n",
       "      <td>HCA</td>\n",
       "      <td>3.26</td>\n",
       "    </tr>\n",
       "    <tr>\n",
       "      <th>4</th>\n",
       "      <td>PKI</td>\n",
       "      <td>2.70</td>\n",
       "    </tr>\n",
       "    <tr>\n",
       "      <th>5</th>\n",
       "      <td>CERN</td>\n",
       "      <td>1.34</td>\n",
       "    </tr>\n",
       "    <tr>\n",
       "      <th>6</th>\n",
       "      <td>ABC</td>\n",
       "      <td>1.12</td>\n",
       "    </tr>\n",
       "    <tr>\n",
       "      <th>7</th>\n",
       "      <td>MCK</td>\n",
       "      <td>0.99</td>\n",
       "    </tr>\n",
       "    <tr>\n",
       "      <th>8</th>\n",
       "      <td>CVS</td>\n",
       "      <td>0.89</td>\n",
       "    </tr>\n",
       "    <tr>\n",
       "      <th>9</th>\n",
       "      <td>CAH</td>\n",
       "      <td>0.63</td>\n",
       "    </tr>\n",
       "  </tbody>\n",
       "</table>\n",
       "</div>"
      ],
      "text/plain": [
       "  Stock  Cumulative Return\n",
       "0  TDOC               8.47\n",
       "1   BIO               4.27\n",
       "2   UNH               3.49\n",
       "3   HCA               3.26\n",
       "4   PKI               2.70\n",
       "5  CERN               1.34\n",
       "6   ABC               1.12\n",
       "7   MCK               0.99\n",
       "8   CVS               0.89\n",
       "9   CAH               0.63"
      ]
     },
     "execution_count": 61,
     "metadata": {},
     "output_type": "execute_result"
    }
   ],
   "source": [
    "health_df = pd.DataFrame(list(health_returns.items()),columns = ['Stock','Cumulative Return']) \n",
    "health_df.sort_values(by='Cumulative Return', ascending=False).reset_index(drop=True)"
   ]
  },
  {
   "cell_type": "code",
   "execution_count": 62,
   "metadata": {},
   "outputs": [
    {
     "data": {
      "text/plain": [
       "Text(0.5, 0, 'Cumulative Return %')"
      ]
     },
     "execution_count": 62,
     "metadata": {},
     "output_type": "execute_result"
    },
    {
     "data": {
      "image/png": "[encoded data removed]",
      "text/plain": [
       "<Figure size 864x576 with 1 Axes>"
      ]
     },
     "metadata": {},
     "output_type": "display_data"
    }
   ],
   "source": [
    "ax = health_df.sort_values('Cumulative Return').plot.barh(x='Stock', figsize=(12,8))\n",
    "plt.title('Healthcare Stock Cumulative Returns 1/1/16 - 6/1/21')\n",
    "plt.xlabel('Cumulative Return %')"
   ]
  },
  {
   "cell_type": "code",
   "execution_count": 63,
   "metadata": {},
   "outputs": [],
   "source": [
    "def get_roi_dict(df):\n",
    "    \"\"\"Takes in a\"\"\"\n",
    "    roi_lst = []\n",
    "    for s in df.Stock.unique():\n",
    "        stock_df = df[(df['Stock'] == s)]\n",
    "        #resampled_df = county_df.resample(rule='A').mean()\n",
    "        cost = stock_df.iloc[0,3]\n",
    "        value = stock_df.iloc[-1,3]\n",
    "        ROI = (value-cost)/cost\n",
    "        roi_lst.append(round(ROI,2))\n",
    "    stock_names = []\n",
    "    for n in tech_df.Stock.unique():\n",
    "        stock_names.append(n)\n",
    "        \n",
    "    roi_dict = dict(zip(roi_lst, stock_names))\n",
    "    return(roi_dict)"
   ]
  },
  {
   "cell_type": "code",
   "execution_count": 64,
   "metadata": {},
   "outputs": [
    {
     "data": {
      "text/plain": [
       "{3.72: 'AAPL',\n",
       " 3.51: 'MSFT',\n",
       " 2.28: 'GOOG',\n",
       " 4.05: 'AMZN',\n",
       " 2.22: 'FB',\n",
       " 3.25: 'TCEHY',\n",
       " 1.86: 'BABA',\n",
       " 12.96: 'TSLA',\n",
       " 4.36: 'TSM',\n",
       " 19.1: 'NVDA'}"
      ]
     },
     "execution_count": 64,
     "metadata": {},
     "output_type": "execute_result"
    }
   ],
   "source": [
    "get_roi_dict(tech_df)"
   ]
  },
  {
   "cell_type": "markdown",
   "metadata": {},
   "source": [
    "## Modeling"
   ]
  },
  {
   "cell_type": "markdown",
   "metadata": {},
   "source": [
    "### SARIMA Models"
   ]
  },
  {
   "cell_type": "code",
   "execution_count": 65,
   "metadata": {},
   "outputs": [
    {
     "data": {
      "text/plain": [
       "(13620, 9)"
      ]
     },
     "execution_count": 65,
     "metadata": {},
     "output_type": "execute_result"
    }
   ],
   "source": [
    "tech_df.shape"
   ]
  },
  {
   "cell_type": "code",
   "execution_count": 66,
   "metadata": {},
   "outputs": [],
   "source": [
    "def sarima_model_fcast(df):\n",
    "    \"\"\"Takes in a dataframe, runs a stepwise fit and SARIMA model on each stock and returns a dictionary of.\"\"\"\n",
    "    forcasted_returns = []\n",
    "    for s in df.Stock.unique():\n",
    "        stock_df = df[(df['Stock'] == s)]\n",
    "        #monthly_df = county_df.resample(rule='M').mean()\n",
    "        stepwise_fit = auto_arima(stock_df['Close'])\n",
    "        model_order = stepwise_fit.order\n",
    "        train = stock_df.iloc[:997]\n",
    "        test = stock_df.iloc[997:]\n",
    "        model = SARIMAX(train['Close'], order=model_order)\n",
    "        results = model.fit()\n",
    "        start = len(train)\n",
    "        end = len(train) + len(test) - 1\n",
    "        predictions = results.predict(start, end, typ='levels')\n",
    "        error = rmse(test['Close'], predictions)\n",
    "        future_model = SARIMAX(stock_df['Close'], order=model_order)\n",
    "        results_future = future_model.fit()\n",
    "        fcast = results_future.predict(len(stock_df), len(stock_df)+183, typ='levels')\n",
    "        fcast_df = pd.DataFrame(fcast)\n",
    "        #cost = fcast_df.iloc[0,0]\n",
    "        #value = fcast_df.iloc[-1,0]\n",
    "        #ROI = (value-cost)/cost\n",
    "        ret = fcast_df.iloc[-1,-1]\n",
    "        forcasted_returns.append(round(ret,2))\n",
    "        \n",
    "    stock_names = []\n",
    "    for n in df.Stock.unique():\n",
    "        stock_names.append(n)\n",
    "            \n",
    "    returns_dict = dict(zip(stock_names, forcasted_returns))\n",
    "    \n",
    "    return returns_dict"
   ]
  },
  {
   "cell_type": "code",
   "execution_count": 67,
   "metadata": {},
   "outputs": [],
   "source": [
    "#sarima_model_fcast(tech_df)"
   ]
  },
  {
   "cell_type": "code",
   "execution_count": 68,
   "metadata": {},
   "outputs": [
    {
     "data": {
      "text/plain": [
       "(1362, 9)"
      ]
     },
     "execution_count": 68,
     "metadata": {},
     "output_type": "execute_result"
    }
   ],
   "source": [
    "apple.shape"
   ]
  },
  {
   "cell_type": "code",
   "execution_count": 69,
   "metadata": {},
   "outputs": [],
   "source": [
    "resampled = apple.resample(rule='M').mean()"
   ]
  },
  {
   "cell_type": "code",
   "execution_count": 70,
   "metadata": {},
   "outputs": [
    {
     "data": {
      "text/plain": [
       "(2, 1, 3)"
      ]
     },
     "execution_count": 70,
     "metadata": {},
     "output_type": "execute_result"
    }
   ],
   "source": [
    "stepwise_fit = auto_arima(apple['Close'])\n",
    "model_order = stepwise_fit.order\n",
    "model_order"
   ]
  },
  {
   "cell_type": "code",
   "execution_count": 71,
   "metadata": {},
   "outputs": [
    {
     "data": {
      "image/png": "[encoded data removed]",
      "text/plain": [
       "<Figure size 432x288 with 1 Axes>"
      ]
     },
     "metadata": {},
     "output_type": "display_data"
    }
   ],
   "source": [
    "plot_acf(resampled['Close']);"
   ]
  },
  {
   "cell_type": "code",
   "execution_count": 72,
   "metadata": {},
   "outputs": [
    {
     "data": {
      "text/plain": [
       "(66, 8)"
      ]
     },
     "execution_count": 72,
     "metadata": {},
     "output_type": "execute_result"
    }
   ],
   "source": [
    "resampled.shape"
   ]
  },
  {
   "cell_type": "code",
   "execution_count": 73,
   "metadata": {},
   "outputs": [],
   "source": [
    "train = resampled.iloc[:54]"
   ]
  },
  {
   "cell_type": "code",
   "execution_count": 74,
   "metadata": {},
   "outputs": [],
   "source": [
    "test = resampled.iloc[54:]"
   ]
  },
  {
   "cell_type": "code",
   "execution_count": 75,
   "metadata": {},
   "outputs": [],
   "source": [
    "model = SARIMAX(train['Close'], order=model_order)"
   ]
  },
  {
   "cell_type": "code",
   "execution_count": 76,
   "metadata": {},
   "outputs": [],
   "source": [
    "results = model.fit()"
   ]
  },
  {
   "cell_type": "code",
   "execution_count": 77,
   "metadata": {},
   "outputs": [],
   "source": [
    "start = len(train)"
   ]
  },
  {
   "cell_type": "code",
   "execution_count": 78,
   "metadata": {},
   "outputs": [],
   "source": [
    "end = len(train) + len(test) - 1"
   ]
  },
  {
   "cell_type": "code",
   "execution_count": 79,
   "metadata": {},
   "outputs": [
    {
     "name": "stdout",
     "output_type": "stream",
     "text": [
      "2020-07-31    89.822095\n",
      "2020-08-31    89.259914\n",
      "2020-09-30    86.999794\n",
      "2020-10-31    84.382392\n",
      "2020-11-30    82.856909\n",
      "2020-12-31    83.184438\n",
      "2021-01-31    85.067449\n",
      "2021-02-28    87.379928\n",
      "2021-03-31    88.834191\n",
      "2021-04-30    88.692938\n",
      "2021-05-31    87.135652\n",
      "2021-06-30    85.101895\n",
      "Freq: M, Name: SARIMA Predictions, dtype: float64\n"
     ]
    }
   ],
   "source": [
    "predictions = results.predict(start=start, end=end, typ='levels').rename('SARIMA Predictions')\n",
    "print(predictions)"
   ]
  },
  {
   "cell_type": "code",
   "execution_count": 80,
   "metadata": {},
   "outputs": [
    {
     "data": {
      "text/plain": [
       "<AxesSubplot:xlabel='Date'>"
      ]
     },
     "execution_count": 80,
     "metadata": {},
     "output_type": "execute_result"
    },
    {
     "data": {
      "image/png": "[encoded data removed]",
      "text/plain": [
       "<Figure size 864x576 with 1 Axes>"
      ]
     },
     "metadata": {},
     "output_type": "display_data"
    }
   ],
   "source": [
    "test['Close'].plot(legend=True, figsize=(12,8))\n",
    "predictions.plot(legend=True)"
   ]
  },
  {
   "cell_type": "code",
   "execution_count": 81,
   "metadata": {},
   "outputs": [],
   "source": [
    "error = rmse(test['Close'], predictions)"
   ]
  },
  {
   "cell_type": "code",
   "execution_count": 82,
   "metadata": {},
   "outputs": [
    {
     "data": {
      "text/plain": [
       "121.48645553530388"
      ]
     },
     "execution_count": 82,
     "metadata": {},
     "output_type": "execute_result"
    }
   ],
   "source": [
    "test['Close'].mean()"
   ]
  },
  {
   "cell_type": "code",
   "execution_count": 83,
   "metadata": {},
   "outputs": [
    {
     "data": {
      "text/plain": [
       "36.5645602523666"
      ]
     },
     "execution_count": 83,
     "metadata": {},
     "output_type": "execute_result"
    }
   ],
   "source": [
    "error"
   ]
  },
  {
   "cell_type": "code",
   "execution_count": 84,
   "metadata": {},
   "outputs": [],
   "source": [
    "model_2 = SARIMAX(resampled['Close'], order=model_order)\n",
    "results_2 = model_2.fit()"
   ]
  },
  {
   "cell_type": "code",
   "execution_count": 85,
   "metadata": {},
   "outputs": [],
   "source": [
    "fcast_2 = results_2.predict(len(resampled), len(resampled)+11, typ='levels').rename('SARIMA Forecast')"
   ]
  },
  {
   "cell_type": "code",
   "execution_count": 86,
   "metadata": {},
   "outputs": [
    {
     "data": {
      "image/png": "[encoded data removed]",
      "text/plain": [
       "<Figure size 864x576 with 1 Axes>"
      ]
     },
     "metadata": {},
     "output_type": "display_data"
    }
   ],
   "source": [
    "resampled['Close'].plot(legend=True, figsize=(12,8))\n",
    "fcast_2.plot(legend=True);"
   ]
  },
  {
   "cell_type": "markdown",
   "metadata": {},
   "source": [
    "### SARIMA Model B"
   ]
  },
  {
   "cell_type": "code",
   "execution_count": 87,
   "metadata": {},
   "outputs": [
    {
     "data": {
      "text/plain": [
       "(2, 1, 3)"
      ]
     },
     "execution_count": 87,
     "metadata": {},
     "output_type": "execute_result"
    }
   ],
   "source": [
    "stepwise_fit = auto_arima(apple['Close'])\n",
    "model_order = stepwise_fit.order\n",
    "model_order"
   ]
  },
  {
   "cell_type": "code",
   "execution_count": 88,
   "metadata": {},
   "outputs": [
    {
     "data": {
      "text/plain": [
       "(1362, 9)"
      ]
     },
     "execution_count": 88,
     "metadata": {},
     "output_type": "execute_result"
    }
   ],
   "source": [
    "apple.shape"
   ]
  },
  {
   "cell_type": "code",
   "execution_count": 89,
   "metadata": {},
   "outputs": [],
   "source": [
    "train_b = apple.iloc[:997]\n",
    "test_b = apple.iloc[997:]"
   ]
  },
  {
   "cell_type": "code",
   "execution_count": 90,
   "metadata": {},
   "outputs": [],
   "source": [
    "model_b = SARIMAX(train_b['Close'], order=model_order)"
   ]
  },
  {
   "cell_type": "code",
   "execution_count": 91,
   "metadata": {},
   "outputs": [],
   "source": [
    "results_b = model_b.fit()"
   ]
  },
  {
   "cell_type": "code",
   "execution_count": 92,
   "metadata": {},
   "outputs": [],
   "source": [
    "start_b = len(train_b)\n",
    "end_b = len(train_b) + len(test_b) - 1"
   ]
  },
  {
   "cell_type": "code",
   "execution_count": 93,
   "metadata": {},
   "outputs": [
    {
     "name": "stdout",
     "output_type": "stream",
     "text": [
      "997     70.111273\n",
      "998     70.172163\n",
      "999     70.267441\n",
      "1000    70.365812\n",
      "1001    70.440624\n",
      "          ...    \n",
      "1357    70.341747\n",
      "1358    70.341747\n",
      "1359    70.341747\n",
      "1360    70.341747\n",
      "1361    70.341747\n",
      "Name: SARIMA Predictions, Length: 365, dtype: float64\n"
     ]
    }
   ],
   "source": [
    "predictions_b = results_b.predict(start=start_b, end=end_b, typ='levels').rename('SARIMA Predictions')\n",
    "print(predictions_b)"
   ]
  },
  {
   "cell_type": "code",
   "execution_count": 94,
   "metadata": {},
   "outputs": [
    {
     "data": {
      "text/plain": [
       "<AxesSubplot:xlabel='Date'>"
      ]
     },
     "execution_count": 94,
     "metadata": {},
     "output_type": "execute_result"
    },
    {
     "data": {
      "image/png": "[encoded data removed]",
      "text/plain": [
       "<Figure size 864x576 with 1 Axes>"
      ]
     },
     "metadata": {},
     "output_type": "display_data"
    }
   ],
   "source": [
    "test_b['Close'].plot(legend=True, figsize=(12,8))\n",
    "predictions_b.plot(legend=True)"
   ]
  },
  {
   "cell_type": "markdown",
   "metadata": {},
   "source": [
    "### RNN Models"
   ]
  },
  {
   "cell_type": "code",
   "execution_count": 95,
   "metadata": {},
   "outputs": [
    {
     "data": {
      "text/plain": [
       "(66, 8)"
      ]
     },
     "execution_count": 95,
     "metadata": {},
     "output_type": "execute_result"
    }
   ],
   "source": [
    "resampled.shape"
   ]
  },
  {
   "cell_type": "code",
   "execution_count": 96,
   "metadata": {},
   "outputs": [
    {
     "data": {
      "text/plain": [
       "(54, 8)"
      ]
     },
     "execution_count": 96,
     "metadata": {},
     "output_type": "execute_result"
    }
   ],
   "source": [
    "train.shape"
   ]
  },
  {
   "cell_type": "code",
   "execution_count": 97,
   "metadata": {},
   "outputs": [
    {
     "data": {
      "text/plain": [
       "(12, 8)"
      ]
     },
     "execution_count": 97,
     "metadata": {},
     "output_type": "execute_result"
    }
   ],
   "source": [
    "test.shape"
   ]
  },
  {
   "cell_type": "code",
   "execution_count": 98,
   "metadata": {},
   "outputs": [],
   "source": [
    "scaler = MinMaxScaler()"
   ]
  },
  {
   "cell_type": "code",
   "execution_count": 99,
   "metadata": {},
   "outputs": [
    {
     "data": {
      "text/plain": [
       "MinMaxScaler()"
      ]
     },
     "execution_count": 99,
     "metadata": {},
     "output_type": "execute_result"
    }
   ],
   "source": [
    "scaler.fit(train[['Close']])"
   ]
  },
  {
   "cell_type": "code",
   "execution_count": 100,
   "metadata": {},
   "outputs": [],
   "source": [
    "scaled_train = scaler.transform(train[['Close']])\n",
    "scaled_test = scaler.transform(test[['Close']])"
   ]
  },
  {
   "cell_type": "code",
   "execution_count": 101,
   "metadata": {},
   "outputs": [],
   "source": [
    "n_input = 2\n",
    "n_features = 1\n",
    "\n",
    "generator = TimeseriesGenerator(scaled_train, scaled_train, length=n_input, batch_size=1)"
   ]
  },
  {
   "cell_type": "code",
   "execution_count": 102,
   "metadata": {},
   "outputs": [
    {
     "data": {
      "text/plain": [
       "54"
      ]
     },
     "execution_count": 102,
     "metadata": {},
     "output_type": "execute_result"
    }
   ],
   "source": [
    "len(scaled_train)"
   ]
  },
  {
   "cell_type": "code",
   "execution_count": 103,
   "metadata": {},
   "outputs": [
    {
     "data": {
      "text/plain": [
       "array([[0.01377093],\n",
       "       [0.00307672],\n",
       "       [0.03704681],\n",
       "       [0.04690113],\n",
       "       [0.        ]])"
      ]
     },
     "execution_count": 103,
     "metadata": {},
     "output_type": "execute_result"
    }
   ],
   "source": [
    "scaled_train[:5]"
   ]
  },
  {
   "cell_type": "code",
   "execution_count": 104,
   "metadata": {},
   "outputs": [],
   "source": [
    "X,y = generator[0]"
   ]
  },
  {
   "cell_type": "code",
   "execution_count": 105,
   "metadata": {},
   "outputs": [
    {
     "data": {
      "text/plain": [
       "array([[[0.01377093],\n",
       "        [0.00307672]]])"
      ]
     },
     "execution_count": 105,
     "metadata": {},
     "output_type": "execute_result"
    }
   ],
   "source": [
    "X"
   ]
  },
  {
   "cell_type": "code",
   "execution_count": 106,
   "metadata": {},
   "outputs": [
    {
     "data": {
      "text/plain": [
       "array([[0.03704681]])"
      ]
     },
     "execution_count": 106,
     "metadata": {},
     "output_type": "execute_result"
    }
   ],
   "source": [
    "y"
   ]
  },
  {
   "cell_type": "code",
   "execution_count": 107,
   "metadata": {},
   "outputs": [],
   "source": [
    "n_input = 12\n",
    "n_features = 1\n",
    "\n",
    "train_generator = TimeseriesGenerator(scaled_train, scaled_train, length=n_input, batch_size=1)"
   ]
  },
  {
   "cell_type": "code",
   "execution_count": 108,
   "metadata": {},
   "outputs": [],
   "source": [
    "model = Sequential()\n",
    "\n",
    "model.add(LSTM(150, activation='relu', input_shape=(n_input, n_features)))\n",
    "model.add(Dense(1))\n",
    "model.compile(optimizer='adam', loss='mse')"
   ]
  },
  {
   "cell_type": "code",
   "execution_count": 109,
   "metadata": {},
   "outputs": [
    {
     "name": "stdout",
     "output_type": "stream",
     "text": [
      "Model: \"sequential\"\n",
      "_________________________________________________________________\n",
      "Layer (type)                 Output Shape              Param #   \n",
      "=================================================================\n",
      "lstm (LSTM)                  (None, 150)               91200     \n",
      "_________________________________________________________________\n",
      "dense (Dense)                (None, 1)                 151       \n",
      "=================================================================\n",
      "Total params: 91,351\n",
      "Trainable params: 91,351\n",
      "Non-trainable params: 0\n",
      "_________________________________________________________________\n"
     ]
    }
   ],
   "source": [
    "model.summary()"
   ]
  },
  {
   "cell_type": "code",
   "execution_count": 110,
   "metadata": {},
   "outputs": [
    {
     "name": "stdout",
     "output_type": "stream",
     "text": [
      "WARNING:tensorflow:From <ipython-input-110-a455a6e86414>:1: Model.fit_generator (from tensorflow.python.keras.engine.training) is deprecated and will be removed in a future version.\n",
      "Instructions for updating:\n",
      "Please use Model.fit, which supports generators.\n",
      "Epoch 1/20\n",
      "42/42 [==============================] - 1s 14ms/step - loss: 0.0300\n",
      "Epoch 2/20\n",
      "42/42 [==============================] - 0s 10ms/step - loss: 0.0155\n",
      "Epoch 3/20\n",
      "42/42 [==============================] - 0s 9ms/step - loss: 0.0179\n",
      "Epoch 4/20\n",
      "42/42 [==============================] - 0s 8ms/step - loss: 0.0128\n",
      "Epoch 5/20\n",
      "42/42 [==============================] - 1s 13ms/step - loss: 0.0153\n",
      "Epoch 6/20\n",
      "42/42 [==============================] - 1s 12ms/step - loss: 0.0121\n",
      "Epoch 7/20\n",
      "42/42 [==============================] - 1s 16ms/step - loss: 0.0117\n",
      "Epoch 8/20\n",
      "42/42 [==============================] - 0s 11ms/step - loss: 0.0134\n",
      "Epoch 9/20\n",
      "42/42 [==============================] - 0s 11ms/step - loss: 0.0116\n",
      "Epoch 10/20\n",
      "42/42 [==============================] - 0s 10ms/step - loss: 0.0110\n",
      "Epoch 11/20\n",
      "42/42 [==============================] - 1s 15ms/step - loss: 0.0145\n",
      "Epoch 12/20\n",
      "42/42 [==============================] - 1s 12ms/step - loss: 0.0099\n",
      "Epoch 13/20\n",
      "42/42 [==============================] - 1s 16ms/step - loss: 0.0138\n",
      "Epoch 14/20\n",
      "42/42 [==============================] - 1s 13ms/step - loss: 0.0103\n",
      "Epoch 15/20\n",
      "42/42 [==============================] - 0s 8ms/step - loss: 0.0095\n",
      "Epoch 16/20\n",
      "42/42 [==============================] - 0s 9ms/step - loss: 0.0110\n",
      "Epoch 17/20\n",
      "42/42 [==============================] - 0s 9ms/step - loss: 0.0113\n",
      "Epoch 18/20\n",
      "42/42 [==============================] - 0s 9ms/step - loss: 0.0084\n",
      "Epoch 19/20\n",
      "42/42 [==============================] - 0s 8ms/step - loss: 0.0103\n",
      "Epoch 20/20\n",
      "42/42 [==============================] - 0s 9ms/step - loss: 0.0114\n"
     ]
    },
    {
     "data": {
      "text/plain": [
       "<tensorflow.python.keras.callbacks.History at 0x7fe9031dc7f0>"
      ]
     },
     "execution_count": 110,
     "metadata": {},
     "output_type": "execute_result"
    }
   ],
   "source": [
    "model.fit_generator(train_generator, epochs=20)"
   ]
  },
  {
   "cell_type": "code",
   "execution_count": 111,
   "metadata": {},
   "outputs": [
    {
     "data": {
      "text/plain": [
       "[<matplotlib.lines.Line2D at 0x7fe8fd9954c0>]"
      ]
     },
     "execution_count": 111,
     "metadata": {},
     "output_type": "execute_result"
    },
    {
     "data": {
      "image/png": "[encoded data removed]",
      "text/plain": [
       "<Figure size 432x288 with 1 Axes>"
      ]
     },
     "metadata": {},
     "output_type": "display_data"
    }
   ],
   "source": [
    "plt.plot(range(len(model.history.history['loss'])), model.history.history['loss'])"
   ]
  },
  {
   "cell_type": "code",
   "execution_count": 112,
   "metadata": {},
   "outputs": [],
   "source": [
    "first_eval_batch = scaled_train[-12:]"
   ]
  },
  {
   "cell_type": "code",
   "execution_count": 113,
   "metadata": {},
   "outputs": [],
   "source": [
    "first_eval_batch = first_eval_batch.reshape((1, n_input, n_features))"
   ]
  },
  {
   "cell_type": "code",
   "execution_count": 114,
   "metadata": {},
   "outputs": [
    {
     "data": {
      "text/plain": [
       "array([[0.9643735]], dtype=float32)"
      ]
     },
     "execution_count": 114,
     "metadata": {},
     "output_type": "execute_result"
    }
   ],
   "source": [
    "model.predict(first_eval_batch)"
   ]
  },
  {
   "cell_type": "markdown",
   "metadata": {},
   "source": [
    "### RNN Forecast"
   ]
  },
  {
   "cell_type": "code",
   "execution_count": 115,
   "metadata": {},
   "outputs": [],
   "source": [
    "test_predictions = []\n",
    "first_eval_batch = scaled_train[-n_input:]\n",
    "current_batch = first_eval_batch.reshape((1, n_input, n_features))\n",
    "\n",
    "for i in range(len(test)):\n",
    "    \n",
    "    current_pred = model.predict(current_batch)[0]\n",
    "    \n",
    "    test_predictions.append(current_pred)\n",
    "    \n",
    "    current_batch = np.append(current_batch[:,1:,:], [[current_pred]], axis=1)"
   ]
  },
  {
   "cell_type": "code",
   "execution_count": 116,
   "metadata": {},
   "outputs": [
    {
     "data": {
      "text/plain": [
       "[array([0.9643735], dtype=float32),\n",
       " array([1.026482], dtype=float32),\n",
       " array([1.0988833], dtype=float32),\n",
       " array([1.1807612], dtype=float32),\n",
       " array([1.2736549], dtype=float32),\n",
       " array([1.3783967], dtype=float32),\n",
       " array([1.5012914], dtype=float32),\n",
       " array([1.6455837], dtype=float32),\n",
       " array([1.8248558], dtype=float32),\n",
       " array([2.0620117], dtype=float32),\n",
       " array([2.3699336], dtype=float32),\n",
       " array([2.7773168], dtype=float32)]"
      ]
     },
     "execution_count": 116,
     "metadata": {},
     "output_type": "execute_result"
    }
   ],
   "source": [
    "test_predictions"
   ]
  },
  {
   "cell_type": "code",
   "execution_count": 117,
   "metadata": {},
   "outputs": [],
   "source": [
    "true_predictions = scaler.inverse_transform(test_predictions)"
   ]
  },
  {
   "cell_type": "code",
   "execution_count": 118,
   "metadata": {},
   "outputs": [
    {
     "data": {
      "text/plain": [
       "array([[ 84.21752893],\n",
       "       [ 88.11221983],\n",
       "       [ 92.65235236],\n",
       "       [ 97.78674644],\n",
       "       [103.61191649],\n",
       "       [110.18005552],\n",
       "       [117.88652058],\n",
       "       [126.93479108],\n",
       "       [138.17656516],\n",
       "       [153.04811445],\n",
       "       [172.35724922],\n",
       "       [197.90339429]])"
      ]
     },
     "execution_count": 118,
     "metadata": {},
     "output_type": "execute_result"
    }
   ],
   "source": [
    "true_predictions"
   ]
  },
  {
   "cell_type": "code",
   "execution_count": 119,
   "metadata": {},
   "outputs": [],
   "source": [
    "test['Predictions'] = true_predictions"
   ]
  },
  {
   "cell_type": "code",
   "execution_count": 120,
   "metadata": {},
   "outputs": [
    {
     "data": {
      "text/plain": [
       "<AxesSubplot:xlabel='Date'>"
      ]
     },
     "execution_count": 120,
     "metadata": {},
     "output_type": "execute_result"
    },
    {
     "data": {
      "image/png": "[encoded data removed]",
      "text/plain": [
       "<Figure size 432x288 with 1 Axes>"
      ]
     },
     "metadata": {},
     "output_type": "display_data"
    }
   ],
   "source": [
    "test['Close'].plot(legend=True)\n",
    "test['Predictions'].plot(legend=True)"
   ]
  },
  {
   "cell_type": "markdown",
   "metadata": {},
   "source": [
    "### RNN Model B "
   ]
  },
  {
   "cell_type": "code",
   "execution_count": 121,
   "metadata": {},
   "outputs": [
    {
     "data": {
      "text/plain": [
       "(1362, 9)"
      ]
     },
     "execution_count": 121,
     "metadata": {},
     "output_type": "execute_result"
    }
   ],
   "source": [
    "apple.shape"
   ]
  },
  {
   "cell_type": "code",
   "execution_count": 122,
   "metadata": {},
   "outputs": [],
   "source": [
    "aapl_train = apple.iloc[:997]\n",
    "aapl_test = apple.iloc[997:]"
   ]
  },
  {
   "cell_type": "code",
   "execution_count": 123,
   "metadata": {},
   "outputs": [
    {
     "data": {
      "text/plain": [
       "MinMaxScaler()"
      ]
     },
     "execution_count": 123,
     "metadata": {},
     "output_type": "execute_result"
    }
   ],
   "source": [
    "scaler_b = MinMaxScaler()\n",
    "scaler_b.fit(aapl_train[['Close']])"
   ]
  },
  {
   "cell_type": "code",
   "execution_count": 124,
   "metadata": {},
   "outputs": [],
   "source": [
    "scaled_train_a = scaler_b.transform(aapl_train[['Close']])\n",
    "scaled_test_a = scaler_b.transform(aapl_test[['Close']])"
   ]
  },
  {
   "cell_type": "code",
   "execution_count": 125,
   "metadata": {},
   "outputs": [],
   "source": [
    "n_input_b = 365\n",
    "n_features_b = 1\n",
    "\n",
    "generator = TimeseriesGenerator(scaled_train_a, scaled_train_a, length=n_input, batch_size=1)"
   ]
  },
  {
   "cell_type": "code",
   "execution_count": 126,
   "metadata": {},
   "outputs": [],
   "source": [
    "model_b = Sequential()\n",
    "\n",
    "model_b.add(LSTM(150, activation='relu', input_shape=(n_input, n_features)))\n",
    "model_b.add(Dense(1))\n",
    "model_b.compile(optimizer='adam', loss='mse')"
   ]
  },
  {
   "cell_type": "code",
   "execution_count": 127,
   "metadata": {},
   "outputs": [
    {
     "name": "stdout",
     "output_type": "stream",
     "text": [
      "Model: \"sequential_1\"\n",
      "_________________________________________________________________\n",
      "Layer (type)                 Output Shape              Param #   \n",
      "=================================================================\n",
      "lstm_1 (LSTM)                (None, 150)               91200     \n",
      "_________________________________________________________________\n",
      "dense_1 (Dense)              (None, 1)                 151       \n",
      "=================================================================\n",
      "Total params: 91,351\n",
      "Trainable params: 91,351\n",
      "Non-trainable params: 0\n",
      "_________________________________________________________________\n"
     ]
    }
   ],
   "source": [
    "model_b.summary()"
   ]
  },
  {
   "cell_type": "code",
   "execution_count": 128,
   "metadata": {},
   "outputs": [
    {
     "name": "stdout",
     "output_type": "stream",
     "text": [
      "Epoch 1/30\n",
      "42/42 [==============================] - 0s 9ms/step - loss: 0.0441\n",
      "Epoch 2/30\n",
      "42/42 [==============================] - 0s 9ms/step - loss: 0.0168\n",
      "Epoch 3/30\n",
      "42/42 [==============================] - 0s 9ms/step - loss: 0.0180\n",
      "Epoch 4/30\n",
      "42/42 [==============================] - 1s 14ms/step - loss: 0.0144\n",
      "Epoch 5/30\n",
      "42/42 [==============================] - 0s 9ms/step - loss: 0.0122\n",
      "Epoch 6/30\n",
      "42/42 [==============================] - 0s 11ms/step - loss: 0.0149\n",
      "Epoch 7/30\n",
      "42/42 [==============================] - 1s 12ms/step - loss: 0.0132\n",
      "Epoch 8/30\n",
      "42/42 [==============================] - 1s 12ms/step - loss: 0.0138\n",
      "Epoch 9/30\n",
      "42/42 [==============================] - 1s 14ms/step - loss: 0.0110\n",
      "Epoch 10/30\n",
      "42/42 [==============================] - 0s 9ms/step - loss: 0.0112\n",
      "Epoch 11/30\n",
      "42/42 [==============================] - 0s 10ms/step - loss: 0.0147\n",
      "Epoch 12/30\n",
      "42/42 [==============================] - 0s 11ms/step - loss: 0.0151\n",
      "Epoch 13/30\n",
      "42/42 [==============================] - 0s 10ms/step - loss: 0.0093\n",
      "Epoch 14/30\n",
      "42/42 [==============================] - 0s 8ms/step - loss: 0.0115\n",
      "Epoch 15/30\n",
      "42/42 [==============================] - 1s 14ms/step - loss: 0.0096\n",
      "Epoch 16/30\n",
      "42/42 [==============================] - 1s 15ms/step - loss: 0.0115\n",
      "Epoch 17/30\n",
      "42/42 [==============================] - 0s 11ms/step - loss: 0.0114\n",
      "Epoch 18/30\n",
      "42/42 [==============================] - 0s 10ms/step - loss: 0.0092\n",
      "Epoch 19/30\n",
      "42/42 [==============================] - 1s 12ms/step - loss: 0.0093\n",
      "Epoch 20/30\n",
      "42/42 [==============================] - 1s 13ms/step - loss: 0.0087\n",
      "Epoch 21/30\n",
      "42/42 [==============================] - 1s 14ms/step - loss: 0.0085\n",
      "Epoch 22/30\n",
      "42/42 [==============================] - 0s 9ms/step - loss: 0.0087\n",
      "Epoch 23/30\n",
      "42/42 [==============================] - 0s 11ms/step - loss: 0.0113\n",
      "Epoch 24/30\n",
      "42/42 [==============================] - 0s 10ms/step - loss: 0.0092\n",
      "Epoch 25/30\n",
      "42/42 [==============================] - 0s 10ms/step - loss: 0.0090\n",
      "Epoch 26/30\n",
      "42/42 [==============================] - 0s 9ms/step - loss: 0.0094\n",
      "Epoch 27/30\n",
      "42/42 [==============================] - 0s 9ms/step - loss: 0.0098\n",
      "Epoch 28/30\n",
      "42/42 [==============================] - 0s 9ms/step - loss: 0.0100\n",
      "Epoch 29/30\n",
      "42/42 [==============================] - 1s 14ms/step - loss: 0.0078\n",
      "Epoch 30/30\n",
      "42/42 [==============================] - 0s 12ms/step - loss: 0.0095\n"
     ]
    },
    {
     "data": {
      "text/plain": [
       "<tensorflow.python.keras.callbacks.History at 0x7fe901665220>"
      ]
     },
     "execution_count": 128,
     "metadata": {},
     "output_type": "execute_result"
    }
   ],
   "source": [
    "model_b.fit_generator(train_generator, epochs=30)"
   ]
  },
  {
   "cell_type": "code",
   "execution_count": 129,
   "metadata": {},
   "outputs": [
    {
     "data": {
      "text/plain": [
       "[<matplotlib.lines.Line2D at 0x7fe91cbd8ca0>]"
      ]
     },
     "execution_count": 129,
     "metadata": {},
     "output_type": "execute_result"
    },
    {
     "data": {
      "image/png": "[encoded data removed]",
      "text/plain": [
       "<Figure size 432x288 with 1 Axes>"
      ]
     },
     "metadata": {},
     "output_type": "display_data"
    }
   ],
   "source": [
    "plt.plot(range(len(model_b.history.history['loss'])), model_b.history.history['loss'])"
   ]
  },
  {
   "cell_type": "code",
   "execution_count": 130,
   "metadata": {},
   "outputs": [
    {
     "name": "stdout",
     "output_type": "stream",
     "text": [
      "WARNING:tensorflow:Model was constructed with shape (None, 12, 1) for input Tensor(\"lstm_1_input:0\", shape=(None, 12, 1), dtype=float32), but it was called on an input with incompatible shape (None, 365, 1).\n"
     ]
    }
   ],
   "source": [
    "test_predictions_b = []\n",
    "first_eval_batch_b = scaled_train_a[-n_input_b:]\n",
    "current_batch_b = first_eval_batch_b.reshape((1, n_input_b, n_features_b))\n",
    "\n",
    "for i in range(len(aapl_test)):\n",
    "    \n",
    "    current_pred_b = model_b.predict(current_batch_b)[0]\n",
    "    \n",
    "    test_predictions_b.append(current_pred_b)\n",
    "    \n",
    "    current_batch_b = np.append(current_batch_b[:,1:,:], [[current_pred_b]], axis=1)"
   ]
  },
  {
   "cell_type": "code",
   "execution_count": 131,
   "metadata": {},
   "outputs": [
    {
     "ename": "ValueError",
     "evalue": "Input contains infinity or a value too large for dtype('float64').",
     "output_type": "error",
     "traceback": [
      "\u001b[0;31m---------------------------------------------------------------------------\u001b[0m",
      "\u001b[0;31mValueError\u001b[0m                                Traceback (most recent call last)",
      "\u001b[0;32m<ipython-input-131-964ca7ec951a>\u001b[0m in \u001b[0;36m<module>\u001b[0;34m\u001b[0m\n\u001b[0;32m----> 1\u001b[0;31m \u001b[0mtrue_predictions_b\u001b[0m \u001b[0;34m=\u001b[0m \u001b[0mscaler_b\u001b[0m\u001b[0;34m.\u001b[0m\u001b[0minverse_transform\u001b[0m\u001b[0;34m(\u001b[0m\u001b[0mtest_predictions_b\u001b[0m\u001b[0;34m)\u001b[0m\u001b[0;34m\u001b[0m\u001b[0;34m\u001b[0m\u001b[0m\n\u001b[0m",
      "\u001b[0;32m~/opt/anaconda3/envs/learn-env/lib/python3.8/site-packages/sklearn/preprocessing/_data.py\u001b[0m in \u001b[0;36minverse_transform\u001b[0;34m(self, X)\u001b[0m\n\u001b[1;32m    427\u001b[0m         \u001b[0mcheck_is_fitted\u001b[0m\u001b[0;34m(\u001b[0m\u001b[0mself\u001b[0m\u001b[0;34m)\u001b[0m\u001b[0;34m\u001b[0m\u001b[0;34m\u001b[0m\u001b[0m\n\u001b[1;32m    428\u001b[0m \u001b[0;34m\u001b[0m\u001b[0m\n\u001b[0;32m--> 429\u001b[0;31m         X = check_array(X, copy=self.copy, dtype=FLOAT_DTYPES,\n\u001b[0m\u001b[1;32m    430\u001b[0m                         force_all_finite=\"allow-nan\")\n\u001b[1;32m    431\u001b[0m \u001b[0;34m\u001b[0m\u001b[0m\n",
      "\u001b[0;32m~/opt/anaconda3/envs/learn-env/lib/python3.8/site-packages/sklearn/utils/validation.py\u001b[0m in \u001b[0;36minner_f\u001b[0;34m(*args, **kwargs)\u001b[0m\n\u001b[1;32m     70\u001b[0m                           FutureWarning)\n\u001b[1;32m     71\u001b[0m         \u001b[0mkwargs\u001b[0m\u001b[0;34m.\u001b[0m\u001b[0mupdate\u001b[0m\u001b[0;34m(\u001b[0m\u001b[0;34m{\u001b[0m\u001b[0mk\u001b[0m\u001b[0;34m:\u001b[0m \u001b[0marg\u001b[0m \u001b[0;32mfor\u001b[0m \u001b[0mk\u001b[0m\u001b[0;34m,\u001b[0m \u001b[0marg\u001b[0m \u001b[0;32min\u001b[0m \u001b[0mzip\u001b[0m\u001b[0;34m(\u001b[0m\u001b[0msig\u001b[0m\u001b[0;34m.\u001b[0m\u001b[0mparameters\u001b[0m\u001b[0;34m,\u001b[0m \u001b[0margs\u001b[0m\u001b[0;34m)\u001b[0m\u001b[0;34m}\u001b[0m\u001b[0;34m)\u001b[0m\u001b[0;34m\u001b[0m\u001b[0;34m\u001b[0m\u001b[0m\n\u001b[0;32m---> 72\u001b[0;31m         \u001b[0;32mreturn\u001b[0m \u001b[0mf\u001b[0m\u001b[0;34m(\u001b[0m\u001b[0;34m**\u001b[0m\u001b[0mkwargs\u001b[0m\u001b[0;34m)\u001b[0m\u001b[0;34m\u001b[0m\u001b[0;34m\u001b[0m\u001b[0m\n\u001b[0m\u001b[1;32m     73\u001b[0m     \u001b[0;32mreturn\u001b[0m \u001b[0minner_f\u001b[0m\u001b[0;34m\u001b[0m\u001b[0;34m\u001b[0m\u001b[0m\n\u001b[1;32m     74\u001b[0m \u001b[0;34m\u001b[0m\u001b[0m\n",
      "\u001b[0;32m~/opt/anaconda3/envs/learn-env/lib/python3.8/site-packages/sklearn/utils/validation.py\u001b[0m in \u001b[0;36mcheck_array\u001b[0;34m(array, accept_sparse, accept_large_sparse, dtype, order, copy, force_all_finite, ensure_2d, allow_nd, ensure_min_samples, ensure_min_features, estimator)\u001b[0m\n\u001b[1;32m    642\u001b[0m \u001b[0;34m\u001b[0m\u001b[0m\n\u001b[1;32m    643\u001b[0m         \u001b[0;32mif\u001b[0m \u001b[0mforce_all_finite\u001b[0m\u001b[0;34m:\u001b[0m\u001b[0;34m\u001b[0m\u001b[0;34m\u001b[0m\u001b[0m\n\u001b[0;32m--> 644\u001b[0;31m             _assert_all_finite(array,\n\u001b[0m\u001b[1;32m    645\u001b[0m                                allow_nan=force_all_finite == 'allow-nan')\n\u001b[1;32m    646\u001b[0m \u001b[0;34m\u001b[0m\u001b[0m\n",
      "\u001b[0;32m~/opt/anaconda3/envs/learn-env/lib/python3.8/site-packages/sklearn/utils/validation.py\u001b[0m in \u001b[0;36m_assert_all_finite\u001b[0;34m(X, allow_nan, msg_dtype)\u001b[0m\n\u001b[1;32m     94\u001b[0m                 not allow_nan and not np.isfinite(X).all()):\n\u001b[1;32m     95\u001b[0m             \u001b[0mtype_err\u001b[0m \u001b[0;34m=\u001b[0m \u001b[0;34m'infinity'\u001b[0m \u001b[0;32mif\u001b[0m \u001b[0mallow_nan\u001b[0m \u001b[0;32melse\u001b[0m \u001b[0;34m'NaN, infinity'\u001b[0m\u001b[0;34m\u001b[0m\u001b[0;34m\u001b[0m\u001b[0m\n\u001b[0;32m---> 96\u001b[0;31m             raise ValueError(\n\u001b[0m\u001b[1;32m     97\u001b[0m                     \u001b[0mmsg_err\u001b[0m\u001b[0;34m.\u001b[0m\u001b[0mformat\u001b[0m\u001b[0;34m\u001b[0m\u001b[0;34m\u001b[0m\u001b[0m\n\u001b[1;32m     98\u001b[0m                     (type_err,\n",
      "\u001b[0;31mValueError\u001b[0m: Input contains infinity or a value too large for dtype('float64')."
     ]
    }
   ],
   "source": [
    "true_predictions_b = scaler_b.inverse_transform(test_predictions_b)"
   ]
  },
  {
   "cell_type": "markdown",
   "metadata": {},
   "source": [
    "### Facebook Prophet Model"
   ]
  },
  {
   "cell_type": "code",
   "execution_count": null,
   "metadata": {},
   "outputs": [],
   "source": [
    "from fbprophet import Prophet"
   ]
  },
  {
   "cell_type": "code",
   "execution_count": null,
   "metadata": {},
   "outputs": [],
   "source": [
    "apple_close = pd.DataFrame(apple['Close'])\n",
    "apple_close.reset_index(inplace=True)"
   ]
  },
  {
   "cell_type": "code",
   "execution_count": null,
   "metadata": {},
   "outputs": [],
   "source": [
    "apple_close.columns = ['ds', 'y']\n",
    "apple_close.head()"
   ]
  },
  {
   "cell_type": "code",
   "execution_count": null,
   "metadata": {},
   "outputs": [],
   "source": [
    "apple_close['ds'] = pd.to_datetime(apple_close['ds'])"
   ]
  },
  {
   "cell_type": "code",
   "execution_count": null,
   "metadata": {},
   "outputs": [],
   "source": [
    "apple_close.info()"
   ]
  },
  {
   "cell_type": "code",
   "execution_count": null,
   "metadata": {},
   "outputs": [],
   "source": [
    "apple_close.shape"
   ]
  },
  {
   "cell_type": "code",
   "execution_count": null,
   "metadata": {},
   "outputs": [],
   "source": [
    "train_c = apple_close[:997]\n",
    "test_c = apple_close[997:]"
   ]
  },
  {
   "cell_type": "code",
   "execution_count": null,
   "metadata": {},
   "outputs": [],
   "source": [
    "apple_close[:997]"
   ]
  },
  {
   "cell_type": "code",
   "execution_count": null,
   "metadata": {},
   "outputs": [],
   "source": [
    "m = Prophet()\n",
    "m.fit(train_c)\n",
    "future = m.make_future_dataframe(periods=365)\n",
    "forecast = m.predict(future)"
   ]
  },
  {
   "cell_type": "code",
   "execution_count": null,
   "metadata": {},
   "outputs": [],
   "source": [
    "forecast.tail()"
   ]
  },
  {
   "cell_type": "code",
   "execution_count": null,
   "metadata": {},
   "outputs": [],
   "source": [
    "test_c"
   ]
  },
  {
   "cell_type": "code",
   "execution_count": null,
   "metadata": {},
   "outputs": [],
   "source": [
    "ax = forecast.plot(x='ds', y ='yhat', label='Predictions', legend=True, figsize=(12,8))\n",
    "test_c.plot(x='ds', y='y', label='True Test Data', legend=True, ax=ax, xlim=('2019-12-18', '2021-06-01'))"
   ]
  },
  {
   "cell_type": "code",
   "execution_count": null,
   "metadata": {},
   "outputs": [],
   "source": [
    "rmse(forecast, test_c['y'])"
   ]
  },
  {
   "cell_type": "code",
   "execution_count": null,
   "metadata": {},
   "outputs": [],
   "source": [
    "forecast.columns"
   ]
  },
  {
   "cell_type": "code",
   "execution_count": null,
   "metadata": {},
   "outputs": [],
   "source": [
    "forecast[['ds', 'yhat_lower', 'yhat_upper', 'yhat']].tail()"
   ]
  },
  {
   "cell_type": "code",
   "execution_count": null,
   "metadata": {},
   "outputs": [],
   "source": [
    "m.plot(forecast);"
   ]
  },
  {
   "cell_type": "code",
   "execution_count": null,
   "metadata": {},
   "outputs": [],
   "source": [
    "m.plot_components(forecast);"
   ]
  },
  {
   "cell_type": "code",
   "execution_count": null,
   "metadata": {},
   "outputs": [],
   "source": []
  }
 ],
 "metadata": {
  "kernelspec": {
   "display_name": "Python 3",
   "language": "python",
   "name": "python3"
  },
  "language_info": {
   "codemirror_mode": {
    "name": "ipython",
    "version": 3
   },
   "file_extension": ".py",
   "mimetype": "text/x-python",
   "name": "python",
   "nbconvert_exporter": "python",
   "pygments_lexer": "ipython3",
   "version": "3.8.5"
  }
 },
 "nbformat": 4,
 "nbformat_minor": 4
}
